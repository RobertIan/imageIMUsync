{
 "worksheets": [
  {
   "cells": [
    {
     "cell_type": "code",
     "execution_count": null,
     "metadata": {},
     "outputs": [],
     "input": [
      ""
     ],
     "language": "python"
    }
   ]
  }
 ],
 "cells": [],
 "metadata": {
  "name": "",
  "signature": "sha256:1c79e447cf1face62ea8af71ac4a4b8ba8a17631e69093879d7758eecb6857b4"
 },
 "nbformat": 3,
 "nbformat_minor": 0
}