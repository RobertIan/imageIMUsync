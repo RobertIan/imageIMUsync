{
 "metadata": {
  "name": "",
  "signature": "sha256:a82bb34e5c76c440832357e17b511c96d7e8e92e8ea1778e4ca85124040c3da5"
 },
 "nbformat": 3,
 "nbformat_minor": 0,
 "worksheets": [
  {
   "cells": [
    {
     "cell_type": "code",
     "collapsed": false,
     "input": [
      "ls"
     ],
     "language": "python",
     "metadata": {},
     "outputs": [
      {
       "output_type": "stream",
       "stream": "stdout",
       "text": [
        "calibA.npz          \u001b[0m\u001b[38;5;33mcalibrationImages_opencvexample\u001b[0m/  Untitled0.ipynb\r\n",
        "calibrateCamera.py  captureCam.py\r\n",
        "\u001b[38;5;33mcalibrationImages\u001b[0m/  project3D.py\r\n"
       ]
      }
     ],
     "prompt_number": 5
    },
    {
     "cell_type": "code",
     "collapsed": false,
     "input": [
      "cd calibrationImages/"
     ],
     "language": "python",
     "metadata": {},
     "outputs": [
      {
       "output_type": "stream",
       "stream": "stdout",
       "text": [
        "/home/ian/PycharmProjects/stereocam/calibrationImages\n"
       ]
      }
     ],
     "prompt_number": 6
    },
    {
     "cell_type": "code",
     "collapsed": false,
     "input": [
      "ls"
     ],
     "language": "python",
     "metadata": {},
     "outputs": [
      {
       "output_type": "stream",
       "stream": "stdout",
       "text": [
        "\u001b[0m\u001b[38;5;13mimg00007_calibresult.png\u001b[0m  \u001b[38;5;13mimg0006_calibresult.png\u001b[0m  \u001b[38;5;13mimg0020_calibresult.png\u001b[0m\r\n",
        "\u001b[38;5;13mimg00007.jpg\u001b[0m              \u001b[38;5;13mimg0006.jpg\u001b[0m              \u001b[38;5;13mimg0020.jpg\u001b[0m\r\n",
        "\u001b[38;5;13mimg0000_calibresult.png\u001b[0m   \u001b[38;5;13mimg0008_calibresult.png\u001b[0m  \u001b[38;5;13mimg0021_calibresult.png\u001b[0m\r\n",
        "\u001b[38;5;13mimg0000.jpg\u001b[0m               \u001b[38;5;13mimg0008.jpg\u001b[0m              \u001b[38;5;13mimg0021.jpg\u001b[0m\r\n",
        "\u001b[38;5;13mimg0001_calibresult.png\u001b[0m   \u001b[38;5;13mimg0014_calibresult.png\u001b[0m  \u001b[38;5;13mimg0022_calibresult.png\u001b[0m\r\n",
        "\u001b[38;5;13mimg0001.jpg\u001b[0m               \u001b[38;5;13mimg0014.jpg\u001b[0m              \u001b[38;5;13mimg0022.jpg\u001b[0m\r\n",
        "\u001b[38;5;13mimg0002_calibresult.png\u001b[0m   \u001b[38;5;13mimg0015_calibresult.png\u001b[0m  \u001b[38;5;13mimg0023_calibresult.png\u001b[0m\r\n",
        "\u001b[38;5;13mimg0002.jpg\u001b[0m               \u001b[38;5;13mimg0015.jpg\u001b[0m              \u001b[38;5;13mimg0023.jpg\u001b[0m\r\n",
        "\u001b[38;5;13mimg0003_calibresult.png\u001b[0m   \u001b[38;5;13mimg0017_calibresult.png\u001b[0m  \u001b[38;5;13mimg0026_calibresult.png\u001b[0m\r\n",
        "\u001b[38;5;13mimg0003.jpg\u001b[0m               \u001b[38;5;13mimg0017.jpg\u001b[0m              \u001b[38;5;13mimg0026.jpg\u001b[0m\r\n",
        "\u001b[38;5;13mimg0004_calibresult.png\u001b[0m   \u001b[38;5;13mimg0018_calibresult.png\u001b[0m  \u001b[38;5;13mimg0029_calibresult.png\u001b[0m\r\n",
        "\u001b[38;5;13mimg0004.jpg\u001b[0m               \u001b[38;5;13mimg0018.jpg\u001b[0m              \u001b[38;5;13mimg0029.jpg\u001b[0m\r\n",
        "\u001b[38;5;13mimg0005_calibresult.png\u001b[0m   \u001b[38;5;13mimg0019_calibresult.png\u001b[0m\r\n",
        "\u001b[38;5;13mimg0005.jpg\u001b[0m               \u001b[38;5;13mimg0019.jpg\u001b[0m\r\n"
       ]
      }
     ],
     "prompt_number": 7
    },
    {
     "cell_type": "code",
     "collapsed": false,
     "input": [
      "import cv2\n",
      "import numpy as np\n",
      "import matplotlib.pyplot as plt"
     ],
     "language": "python",
     "metadata": {},
     "outputs": [],
     "prompt_number": 13
    },
    {
     "cell_type": "code",
     "collapsed": false,
     "input": [
      "img = cv2.imread('img0029_calibresult.png')\n",
      "print img.shape\n",
      "rows,cols,ch = img.shape\n",
      "\n",
      "pts1 = np.float32([[50,50],[200,50],[50,200]])\n",
      "pts2 = np.float32([[10,100],[200,50],[100,250]])\n",
      "\n",
      "M = cv2.getAffineTransform(pts1,pts2)\n",
      "dst = cv2.warpAffine(img,M,(cols,rows))\n",
      "\n",
      "plt.subplot(121),plt.imshow(img),plt.title('Input')\n",
      "plt.subplot(122),plt.imshow(dst),plt.title('Output')\n",
      "plt.show()"
     ],
     "language": "python",
     "metadata": {},
     "outputs": [
      {
       "output_type": "stream",
       "stream": "stdout",
       "text": [
        "(969, 1832, 3)\n"
       ]
      }
     ],
     "prompt_number": 14
    },
    {
     "cell_type": "code",
     "collapsed": false,
     "input": [
      "img = cv2.imread('img0029_calibresult.png')\n",
      "print img.shape\n",
      "rows,cols,ch = img.shape\n",
      "\n",
      "pts1 = np.float32([[50,50],[200,50],[50,200],[200,200]])\n",
      "pts2 = np.float32([[10,100],[200,50],[100,250],[200,250]])\n",
      "\n",
      "M = cv2.getPerspectiveTransform(pts1,pts2)\n",
      "dst = cv2.warpPerspective(img,M,(cols,rows))\n",
      "\n",
      "plt.subplot(121),plt.imshow(img),plt.title('Input')\n",
      "plt.subplot(122),plt.imshow(dst),plt.title('Output')\n",
      "plt.show()"
     ],
     "language": "python",
     "metadata": {},
     "outputs": [
      {
       "output_type": "stream",
       "stream": "stdout",
       "text": [
        "(969, 1832, 3)\n"
       ]
      }
     ],
     "prompt_number": 15
    },
    {
     "cell_type": "code",
     "collapsed": false,
     "input": [
      "import numpy as np\n",
      "import cv2\n",
      "from matplotlib import pyplot as plt\n",
      "\n",
      "MIN_MATCH_COUNT = 10\n",
      "\n",
      "img1 = cv2.imread('img0019_calibresult.png',0)          # queryImage\n",
      "img2 = cv2.imread('img0021_calibresult.png',0) # trainImage\n",
      "\n",
      "# Initiate SIFT detector\n",
      "sift = cv2.SIFT()\n",
      "\n",
      "# find the keypoints and descriptors with SIFT\n",
      "kp1, des1 = sift.detectAndCompute(img1,None)\n",
      "kp2, des2 = sift.detectAndCompute(img2,None)\n",
      "\n",
      "FLANN_INDEX_KDTREE = 0\n",
      "index_params = dict(algorithm = FLANN_INDEX_KDTREE, trees = 5)\n",
      "search_params = dict(checks = 50)\n",
      "\n",
      "flann = cv2.FlannBasedMatcher(index_params, search_params)\n",
      "\n",
      "matches = flann.knnMatch(des1,des2,k=2)\n",
      "\n",
      "# store all the good matches as per Lowe's ratio test.\n",
      "good = []\n",
      "for m,n in matches:\n",
      "    if m.distance < 0.7*n.distance:\n",
      "        good.append(m)\n",
      "        \n",
      "if len(good)>MIN_MATCH_COUNT:\n",
      "    src_pts = np.float32([ kp1[m.queryIdx].pt for m in good ]).reshape(-1,1,2)\n",
      "    dst_pts = np.float32([ kp2[m.trainIdx].pt for m in good ]).reshape(-1,1,2)\n",
      "\n",
      "    M, mask = cv2.findHomography(src_pts, dst_pts, cv2.RANSAC,5.0)\n",
      "    matchesMask = mask.ravel().tolist()\n",
      "\n",
      "    h,w = img1.shape\n",
      "    pts = np.float32([ [0,0],[0,h-1],[w-1,h-1],[w-1,0] ]).reshape(-1,1,2)\n",
      "    dst = cv2.perspectiveTransform(pts,M)\n",
      "\n",
      "    img2 = cv2.polylines(img2,[np.int32(dst)],True,(255,255,255))\n",
      "\n",
      "else:\n",
      "    print \"Not enough matches are found - %d/%d\" % (len(good),MIN_MATCH_COUNT)\n",
      "    matchesMask = None\n",
      "\n",
      "draw_params = dict(matchColor = (0,255,0), # draw matches in green color\n",
      "                   singlePointColor = None,\n",
      "                   matchesMask = matchesMask, # draw only inliers\n",
      "                   flags = 2)\n",
      "\n",
      "img3 = cv2.drawMatches(img1,kp1,img2,kp2,good,None,**draw_params)\n",
      "\n",
      "plt.imshow(img3, 'gray'),plt.show()"
     ],
     "language": "python",
     "metadata": {},
     "outputs": [
      {
       "ename": "AttributeError",
       "evalue": "'module' object has no attribute 'drawMatches'",
       "output_type": "pyerr",
       "traceback": [
        "\u001b[1;31m---------------------------------------------------------------------------\u001b[0m\n\u001b[1;31mAttributeError\u001b[0m                            Traceback (most recent call last)",
        "\u001b[1;32m<ipython-input-21-401050f6df9e>\u001b[0m in \u001b[0;36m<module>\u001b[1;34m()\u001b[0m\n\u001b[0;32m     51\u001b[0m                    flags = 2)\n\u001b[0;32m     52\u001b[0m \u001b[1;33m\u001b[0m\u001b[0m\n\u001b[1;32m---> 53\u001b[1;33m \u001b[0mimg3\u001b[0m \u001b[1;33m=\u001b[0m \u001b[0mcv2\u001b[0m\u001b[1;33m.\u001b[0m\u001b[0mdrawMatches\u001b[0m\u001b[1;33m(\u001b[0m\u001b[0mimg1\u001b[0m\u001b[1;33m,\u001b[0m\u001b[0mkp1\u001b[0m\u001b[1;33m,\u001b[0m\u001b[0mimg2\u001b[0m\u001b[1;33m,\u001b[0m\u001b[0mkp2\u001b[0m\u001b[1;33m,\u001b[0m\u001b[0mgood\u001b[0m\u001b[1;33m,\u001b[0m\u001b[0mNone\u001b[0m\u001b[1;33m,\u001b[0m\u001b[1;33m**\u001b[0m\u001b[0mdraw_params\u001b[0m\u001b[1;33m)\u001b[0m\u001b[1;33m\u001b[0m\u001b[0m\n\u001b[0m\u001b[0;32m     54\u001b[0m \u001b[1;33m\u001b[0m\u001b[0m\n\u001b[0;32m     55\u001b[0m \u001b[0mplt\u001b[0m\u001b[1;33m.\u001b[0m\u001b[0mimshow\u001b[0m\u001b[1;33m(\u001b[0m\u001b[0mimg3\u001b[0m\u001b[1;33m,\u001b[0m \u001b[1;34m'gray'\u001b[0m\u001b[1;33m)\u001b[0m\u001b[1;33m,\u001b[0m\u001b[0mplt\u001b[0m\u001b[1;33m.\u001b[0m\u001b[0mshow\u001b[0m\u001b[1;33m(\u001b[0m\u001b[1;33m)\u001b[0m\u001b[1;33m\u001b[0m\u001b[0m\n",
        "\u001b[1;31mAttributeError\u001b[0m: 'module' object has no attribute 'drawMatches'"
       ]
      }
     ],
     "prompt_number": 21
    },
    {
     "cell_type": "code",
     "collapsed": false,
     "input": [],
     "language": "python",
     "metadata": {},
     "outputs": [],
     "prompt_number": 19
    },
    {
     "cell_type": "code",
     "collapsed": false,
     "input": [],
     "language": "python",
     "metadata": {},
     "outputs": []
    }
   ],
   "metadata": {}
  }
 ]
}